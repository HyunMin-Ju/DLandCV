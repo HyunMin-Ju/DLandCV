{
  "nbformat": 4,
  "nbformat_minor": 0,
  "metadata": {
    "colab": {
      "provenance": []
    },
    "kernelspec": {
      "name": "python3",
      "display_name": "Python 3"
    },
    "language_info": {
      "name": "python"
    }
  },
  "cells": [
    {
      "cell_type": "code",
      "execution_count": 14,
      "metadata": {
        "id": "1TToD-q0wu-s"
      },
      "outputs": [],
      "source": [
        "import numpy as np\n",
        "import time\n",
        "\n",
        "def assignment1_1_function(SIZE):\n",
        "    HALF = int(SIZE/2)\n",
        "    FULL = int(SIZE-1)\n",
        "\n",
        "    L1 = range(SIZE) # Python list\n",
        "    L2 = range(SIZE) # Python list\n",
        "    A1 = np.arange(SIZE) # NumPy array\n",
        "    A2 = np.arange(SIZE) # NumPy array\n",
        "\n",
        "    start = time.time() # read time here\n",
        "    result_list = [L1[i] + L2[i] for i in range(SIZE)]# computation code between time.time()s\n",
        "    end = time.time() # read time here\n",
        "    python_list_time = (end - start)*1000\n",
        "\n",
        "    start_time = time.time()\n",
        "    dot_product_list = sum([L1[i] * L2[i] for i in range(SIZE)])\n",
        "    end_time = time.time()\n",
        "    python_dot_time = (end_time - start_time)*1000\n",
        "\n",
        "    start_time = time.time()\n",
        "    result_arr = A1 + A2\n",
        "    end_time = time.time()\n",
        "    numpy_arr_time = (end_time - start_time)*1000\n",
        "\n",
        "    start_time = time.time()\n",
        "    dot_product_arr = np.dot(A1, A2)\n",
        "    end_time = time.time()\n",
        "    numpy_dot_time = (end_time - start_time)*1000\n",
        "\n",
        "    # printing code\n",
        "    # computation time in [ms]: (end-start)*1000\n",
        "    line = \"---------------------------------------------------------\"\n",
        "    print(line)\n",
        "    print(\"SIZE = \",SIZE)\n",
        "\n",
        "    print(line)\n",
        "    print(\"List Addition values at 0, SIZE-1 = \", result_list[0], \",\", result_list[SIZE-1])\n",
        "    print(\"List addition time [ms] = \", python_list_time)\n",
        "\n",
        "    print(line)\n",
        "    print(\"List dot product = \",dot_product_list)\n",
        "    print(\"List dot product time [ms] = \",python_dot_time)\n",
        "\n",
        "    print(line)\n",
        "    print(\"NumPy Addition values at 0, SIZE-1 = \",result_arr[0], \",\", result_arr[SIZE-1])\n",
        "    print(\"NumPy addition time [ms] = \",numpy_arr_time)\n",
        "\n",
        "    print(line)\n",
        "    print(\"NumPy dot product = \", dot_product_arr)\n",
        "    print(\"NumPy dot product time [ms] = \", numpy_dot_time)\n",
        "    print(line)\n"
      ]
    },
    {
      "cell_type": "code",
      "source": [
        "assignment1_1_function(100)"
      ],
      "metadata": {
        "colab": {
          "base_uri": "https://localhost:8080/"
        },
        "id": "llxiP6G_JwsF",
        "outputId": "aaa84a6c-fec1-4c9a-9856-5f1d397e84ae"
      },
      "execution_count": 15,
      "outputs": [
        {
          "output_type": "stream",
          "name": "stdout",
          "text": [
            "---------------------------------------------------------\n",
            "SIZE =  100\n",
            "---------------------------------------------------------\n",
            "List Addition values at 0, SIZE-1 =  0 , 198\n",
            "List addition time [ms] =  0.044345855712890625\n",
            "---------------------------------------------------------\n",
            "List dot product =  328350\n",
            "List dot product time [ms] =  0.044345855712890625\n",
            "---------------------------------------------------------\n",
            "NumPy Addition values at 0, SIZE-1 =  0 , 198\n",
            "NumPy addition time [ms] =  0.017404556274414062\n",
            "---------------------------------------------------------\n",
            "NumPy dot product =  328350\n",
            "NumPy dot product time [ms] =  0.0247955322265625\n",
            "---------------------------------------------------------\n"
          ]
        }
      ]
    },
    {
      "cell_type": "code",
      "source": [
        "assignment1_1_function(10000)"
      ],
      "metadata": {
        "colab": {
          "base_uri": "https://localhost:8080/"
        },
        "id": "s8kTyl4tKueo",
        "outputId": "1960ebab-9029-42b2-f264-5d616bdde2ab"
      },
      "execution_count": 16,
      "outputs": [
        {
          "output_type": "stream",
          "name": "stdout",
          "text": [
            "---------------------------------------------------------\n",
            "SIZE =  10000\n",
            "---------------------------------------------------------\n",
            "List Addition values at 0, SIZE-1 =  0 , 19998\n",
            "List addition time [ms] =  4.305362701416016\n",
            "---------------------------------------------------------\n",
            "List dot product =  333283335000\n",
            "List dot product time [ms] =  5.390405654907227\n",
            "---------------------------------------------------------\n",
            "NumPy Addition values at 0, SIZE-1 =  0 , 19998\n",
            "NumPy addition time [ms] =  0.06413459777832031\n",
            "---------------------------------------------------------\n",
            "NumPy dot product =  333283335000\n",
            "NumPy dot product time [ms] =  0.05316734313964844\n",
            "---------------------------------------------------------\n"
          ]
        }
      ]
    },
    {
      "cell_type": "code",
      "source": [
        "assignment1_1_function(1000000)"
      ],
      "metadata": {
        "colab": {
          "base_uri": "https://localhost:8080/"
        },
        "id": "YF89Oso8Klzv",
        "outputId": "979de8d2-f637-49f7-d9f4-58ec205d82d1"
      },
      "execution_count": 17,
      "outputs": [
        {
          "output_type": "stream",
          "name": "stdout",
          "text": [
            "---------------------------------------------------------\n",
            "SIZE =  1000000\n",
            "---------------------------------------------------------\n",
            "List Addition values at 0, SIZE-1 =  0 , 1999998\n",
            "List addition time [ms] =  244.68398094177246\n",
            "---------------------------------------------------------\n",
            "List dot product =  333332833333500000\n",
            "List dot product time [ms] =  271.7776298522949\n",
            "---------------------------------------------------------\n",
            "NumPy Addition values at 0, SIZE-1 =  0 , 1999998\n",
            "NumPy addition time [ms] =  2.054452896118164\n",
            "---------------------------------------------------------\n",
            "NumPy dot product =  333332833333500000\n",
            "NumPy dot product time [ms] =  1.565694808959961\n",
            "---------------------------------------------------------\n"
          ]
        }
      ]
    }
  ]
}