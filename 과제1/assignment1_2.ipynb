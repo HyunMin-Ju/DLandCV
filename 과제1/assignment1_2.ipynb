{
  "nbformat": 4,
  "nbformat_minor": 0,
  "metadata": {
    "colab": {
      "provenance": []
    },
    "kernelspec": {
      "name": "python3",
      "display_name": "Python 3"
    },
    "language_info": {
      "name": "python"
    }
  },
  "cells": [
    {
      "cell_type": "code",
      "execution_count": 1,
      "metadata": {
        "id": "181B5-0JQHj2"
      },
      "outputs": [],
      "source": [
        "# 2-1 single-neuron logistic regression code\n",
        "import numpy as np\n",
        "from copy import deepcopy\n",
        "import matplotlib.pyplot as plt\n",
        "\n",
        "x = np.array([[1,1]])\n",
        "y = np.array([[0]])"
      ]
    },
    {
      "cell_type": "code",
      "source": [
        "from copy import deepcopy\n",
        "import numpy as np\n",
        "\n",
        "def sigmoid(x):\n",
        "    return 1/(1+np.exp(-x))\n",
        "\n",
        "def feed_forward(inputs, outputs, weights):\n",
        "    pre_output = np.dot(inputs, weights[0]) + weights[1]\n",
        "    output = 1 / (1 + np.exp(-pre_output))\n",
        "    mean_squared_error = np.mean(np.square(output - outputs))\n",
        "    return mean_squared_error\n",
        "\n",
        "def update_weights(inputs, outputs, weights, lr):\n",
        "\n",
        "    #변경된 가중치가 기존의 가중치에 영향을 주지 않게하기위함.\n",
        "    original_weights = deepcopy(weights)\n",
        "    temp_weights = deepcopy(weights)\n",
        "    updated_weights = deepcopy(weights)\n",
        "    original_loss = feed_forward(inputs, outputs, original_weights)\n",
        "    \n",
        "    # 각 weight에 대한 gradient 계산\n",
        "    #for loop에서 첫 번째 인덱스만 이용하도록 변경\n",
        "    for i, weight in enumerate(original_weights):\n",
        "        for j in range(len(weight)):\n",
        "            temp_weights[i][j] += 0.0001\n",
        "            _loss_plus = feed_forward(inputs, outputs, temp_weights)\n",
        "            grad = (_loss_plus - original_loss)/(0.0001)\n",
        "            updated_weights[i][j] -= grad*lr\n",
        "            temp_weights[i][j] -= 0.0001\n",
        "    return updated_weights, original_loss\n",
        "\n",
        "W = [ # W 초기값 설정\n",
        "    np.array([-0.0053, 0.3793], dtype=np.float32).T,\n",
        "    np.array([-0.0140], dtype=np.float32),\n",
        "  ]"
      ],
      "metadata": {
        "id": "SymRvIksRU6d"
      },
      "execution_count": 14,
      "outputs": []
    },
    {
      "cell_type": "code",
      "source": [
        "# 100번 update_weights 수행하고 loss plot을 보이는 code 작성. . .\n",
        "losses = []\n",
        "for epoch in range(100):\n",
        "    W, loss = update_weights(x,y,W,0.01)\n",
        "    losses.append(loss)\n",
        "\n",
        "plt.plot(losses)\n",
        "plt.title('Loss over increasing number of epochs')\n",
        "plt.show()"
      ],
      "metadata": {
        "colab": {
          "base_uri": "https://localhost:8080/",
          "height": 281
        },
        "id": "8koagwJWRJBu",
        "outputId": "92f23e06-d91e-4321-9eb4-33149eeda3a2"
      },
      "execution_count": 15,
      "outputs": [
        {
          "output_type": "display_data",
          "data": {
            "text/plain": [
              "<Figure size 432x288 with 1 Axes>"
            ],
            "image/png": "[encoded data removed]"
          },
          "metadata": {
            "needs_background": "light"
          }
        }
      ]
    },
    {
      "cell_type": "code",
      "source": [
        "W # 최종 Weight print"
      ],
      "metadata": {
        "colab": {
          "base_uri": "https://localhost:8080/"
        },
        "id": "fZKuBfJdRK7j",
        "outputId": "58558df2-aeab-42d0-dbd7-22c52ceaec98"
      },
      "execution_count": 16,
      "outputs": [
        {
          "output_type": "execute_result",
          "data": {
            "text/plain": [
              "[array([-0.24942285,  0.13519615], dtype=float32),\n",
              " array([-0.2581218], dtype=float32)]"
            ]
          },
          "metadata": {},
          "execution_count": 16
        }
      ]
    },
    {
      "cell_type": "code",
      "source": [
        "# 최종 추청치 output을 print하는 code 작성 . . . \n",
        "pre_out = np.dot(x,W[0]) + W[1]\n",
        "out = 1/(1+np.exp(-pre_out))\n",
        "out"
      ],
      "metadata": {
        "colab": {
          "base_uri": "https://localhost:8080/"
        },
        "id": "-UKTZVQ4XH1W",
        "outputId": "c8f7513d-af93-4f53-ab96-e2bfd4244b1b"
      },
      "execution_count": 18,
      "outputs": [
        {
          "output_type": "execute_result",
          "data": {
            "text/plain": [
              "array([0.40797367])"
            ]
          },
          "metadata": {},
          "execution_count": 18
        }
      ]
    },
    {
      "cell_type": "code",
      "source": [
        "감사합니다:)"
      ],
      "metadata": {
        "id": "I_k4UjW5fFA6"
      },
      "execution_count": null,
      "outputs": []
    }
  ]
}