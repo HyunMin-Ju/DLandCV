{
 "cells": [
  {
   "cell_type": "code",
   "execution_count": 1,
   "metadata": {},
   "outputs": [],
   "source": [
    "import torch\n",
    "from torch import nn\n",
    "from torch.utils.data import TensorDataset, Dataset, DataLoader\n",
    "from torch.optim import SGD, Adam\n",
    "device = 'cuda' if torch.cuda.is_available() else 'cpu'\n",
    "from torchvision import datasets\n",
    "import numpy as np\n",
    "import matplotlib.pyplot as plt\n",
    "%matplotlib inline"
   ]
  },
  {
   "cell_type": "code",
   "execution_count": 2,
   "metadata": {},
   "outputs": [
    {
     "name": "stdout",
     "output_type": "stream",
     "text": [
      "Downloading http://fashion-mnist.s3-website.eu-central-1.amazonaws.com/train-images-idx3-ubyte.gz\n",
      "Downloading http://fashion-mnist.s3-website.eu-central-1.amazonaws.com/train-images-idx3-ubyte.gz to ./content/FashionMNIST/raw/train-images-idx3-ubyte.gz\n"
     ]
    },
    {
     "name": "stderr",
     "output_type": "stream",
     "text": [
      "100%|██████████| 26421880/26421880 [00:21<00:00, 1229563.12it/s]\n"
     ]
    },
    {
     "name": "stdout",
     "output_type": "stream",
     "text": [
      "Extracting ./content/FashionMNIST/raw/train-images-idx3-ubyte.gz to ./content/FashionMNIST/raw\n",
      "\n",
      "Downloading http://fashion-mnist.s3-website.eu-central-1.amazonaws.com/train-labels-idx1-ubyte.gz\n",
      "Downloading http://fashion-mnist.s3-website.eu-central-1.amazonaws.com/train-labels-idx1-ubyte.gz to ./content/FashionMNIST/raw/train-labels-idx1-ubyte.gz\n"
     ]
    },
    {
     "name": "stderr",
     "output_type": "stream",
     "text": [
      "100%|██████████| 29515/29515 [00:00<00:00, 126710.75it/s]\n"
     ]
    },
    {
     "name": "stdout",
     "output_type": "stream",
     "text": [
      "Extracting ./content/FashionMNIST/raw/train-labels-idx1-ubyte.gz to ./content/FashionMNIST/raw\n",
      "\n",
      "Downloading http://fashion-mnist.s3-website.eu-central-1.amazonaws.com/t10k-images-idx3-ubyte.gz\n",
      "Downloading http://fashion-mnist.s3-website.eu-central-1.amazonaws.com/t10k-images-idx3-ubyte.gz to ./content/FashionMNIST/raw/t10k-images-idx3-ubyte.gz\n"
     ]
    },
    {
     "name": "stderr",
     "output_type": "stream",
     "text": [
      "100%|██████████| 4422102/4422102 [00:03<00:00, 1467612.29it/s]\n"
     ]
    },
    {
     "name": "stdout",
     "output_type": "stream",
     "text": [
      "Extracting ./content/FashionMNIST/raw/t10k-images-idx3-ubyte.gz to ./content/FashionMNIST/raw\n",
      "\n",
      "Downloading http://fashion-mnist.s3-website.eu-central-1.amazonaws.com/t10k-labels-idx1-ubyte.gz\n",
      "Downloading http://fashion-mnist.s3-website.eu-central-1.amazonaws.com/t10k-labels-idx1-ubyte.gz to ./content/FashionMNIST/raw/t10k-labels-idx1-ubyte.gz\n"
     ]
    },
    {
     "name": "stderr",
     "output_type": "stream",
     "text": [
      "  0%|          | 0/5148 [00:00<?, ?it/s]\n"
     ]
    },
    {
     "name": "stdout",
     "output_type": "stream",
     "text": [
      "\n"
     ]
    },
    {
     "ename": "OSError",
     "evalue": "[Errno 50] Network is down",
     "output_type": "error",
     "traceback": [
      "\u001b[0;31m---------------------------------------------------------------------------\u001b[0m",
      "\u001b[0;31mOSError\u001b[0m                                   Traceback (most recent call last)",
      "Cell \u001b[0;32mIn[2], line 4\u001b[0m\n\u001b[1;32m      2\u001b[0m \u001b[39mimport\u001b[39;00m \u001b[39mtorch\u001b[39;00m\n\u001b[1;32m      3\u001b[0m data_folder \u001b[39m=\u001b[39m \u001b[39m'\u001b[39m\u001b[39m./content/\u001b[39m\u001b[39m'\u001b[39m \u001b[39m# This can be any directory you want to download FMNIST to\u001b[39;00m\n\u001b[0;32m----> 4\u001b[0m fmnist \u001b[39m=\u001b[39m datasets\u001b[39m.\u001b[39;49mFashionMNIST(data_folder, download\u001b[39m=\u001b[39;49m\u001b[39mTrue\u001b[39;49;00m, train\u001b[39m=\u001b[39;49m\u001b[39mTrue\u001b[39;49;00m)\n\u001b[1;32m      5\u001b[0m val_fmnist \u001b[39m=\u001b[39m datasets\u001b[39m.\u001b[39mFashionMNIST(data_folder, download\u001b[39m=\u001b[39m\u001b[39mTrue\u001b[39;00m, train\u001b[39m=\u001b[39m\u001b[39mFalse\u001b[39;00m)\n\u001b[1;32m      6\u001b[0m tr_images, tr_targets \u001b[39m=\u001b[39m fmnist\u001b[39m.\u001b[39mdata, fmnist\u001b[39m.\u001b[39mtargets\n",
      "File \u001b[0;32m/opt/homebrew/lib/python3.10/site-packages/torchvision/datasets/mnist.py:99\u001b[0m, in \u001b[0;36mMNIST.__init__\u001b[0;34m(self, root, train, transform, target_transform, download)\u001b[0m\n\u001b[1;32m     96\u001b[0m     \u001b[39mreturn\u001b[39;00m\n\u001b[1;32m     98\u001b[0m \u001b[39mif\u001b[39;00m download:\n\u001b[0;32m---> 99\u001b[0m     \u001b[39mself\u001b[39;49m\u001b[39m.\u001b[39;49mdownload()\n\u001b[1;32m    101\u001b[0m \u001b[39mif\u001b[39;00m \u001b[39mnot\u001b[39;00m \u001b[39mself\u001b[39m\u001b[39m.\u001b[39m_check_exists():\n\u001b[1;32m    102\u001b[0m     \u001b[39mraise\u001b[39;00m \u001b[39mRuntimeError\u001b[39;00m(\u001b[39m\"\u001b[39m\u001b[39mDataset not found. You can use download=True to download it\u001b[39m\u001b[39m\"\u001b[39m)\n",
      "File \u001b[0;32m/opt/homebrew/lib/python3.10/site-packages/torchvision/datasets/mnist.py:187\u001b[0m, in \u001b[0;36mMNIST.download\u001b[0;34m(self)\u001b[0m\n\u001b[1;32m    185\u001b[0m \u001b[39mtry\u001b[39;00m:\n\u001b[1;32m    186\u001b[0m     \u001b[39mprint\u001b[39m(\u001b[39mf\u001b[39m\u001b[39m\"\u001b[39m\u001b[39mDownloading \u001b[39m\u001b[39m{\u001b[39;00murl\u001b[39m}\u001b[39;00m\u001b[39m\"\u001b[39m)\n\u001b[0;32m--> 187\u001b[0m     download_and_extract_archive(url, download_root\u001b[39m=\u001b[39;49m\u001b[39mself\u001b[39;49m\u001b[39m.\u001b[39;49mraw_folder, filename\u001b[39m=\u001b[39;49mfilename, md5\u001b[39m=\u001b[39;49mmd5)\n\u001b[1;32m    188\u001b[0m \u001b[39mexcept\u001b[39;00m URLError \u001b[39mas\u001b[39;00m error:\n\u001b[1;32m    189\u001b[0m     \u001b[39mprint\u001b[39m(\u001b[39mf\u001b[39m\u001b[39m\"\u001b[39m\u001b[39mFailed to download (trying next):\u001b[39m\u001b[39m\\n\u001b[39;00m\u001b[39m{\u001b[39;00merror\u001b[39m}\u001b[39;00m\u001b[39m\"\u001b[39m)\n",
      "File \u001b[0;32m/opt/homebrew/lib/python3.10/site-packages/torchvision/datasets/utils.py:434\u001b[0m, in \u001b[0;36mdownload_and_extract_archive\u001b[0;34m(url, download_root, extract_root, filename, md5, remove_finished)\u001b[0m\n\u001b[1;32m    431\u001b[0m \u001b[39mif\u001b[39;00m \u001b[39mnot\u001b[39;00m filename:\n\u001b[1;32m    432\u001b[0m     filename \u001b[39m=\u001b[39m os\u001b[39m.\u001b[39mpath\u001b[39m.\u001b[39mbasename(url)\n\u001b[0;32m--> 434\u001b[0m download_url(url, download_root, filename, md5)\n\u001b[1;32m    436\u001b[0m archive \u001b[39m=\u001b[39m os\u001b[39m.\u001b[39mpath\u001b[39m.\u001b[39mjoin(download_root, filename)\n\u001b[1;32m    437\u001b[0m \u001b[39mprint\u001b[39m(\u001b[39mf\u001b[39m\u001b[39m\"\u001b[39m\u001b[39mExtracting \u001b[39m\u001b[39m{\u001b[39;00marchive\u001b[39m}\u001b[39;00m\u001b[39m to \u001b[39m\u001b[39m{\u001b[39;00mextract_root\u001b[39m}\u001b[39;00m\u001b[39m\"\u001b[39m)\n",
      "File \u001b[0;32m/opt/homebrew/lib/python3.10/site-packages/torchvision/datasets/utils.py:151\u001b[0m, in \u001b[0;36mdownload_url\u001b[0;34m(url, root, filename, md5, max_redirect_hops)\u001b[0m\n\u001b[1;32m    149\u001b[0m             _urlretrieve(url, fpath)\n\u001b[1;32m    150\u001b[0m         \u001b[39melse\u001b[39;00m:\n\u001b[0;32m--> 151\u001b[0m             \u001b[39mraise\u001b[39;00m e\n\u001b[1;32m    153\u001b[0m \u001b[39m# check integrity of downloaded file\u001b[39;00m\n\u001b[1;32m    154\u001b[0m \u001b[39mif\u001b[39;00m \u001b[39mnot\u001b[39;00m check_integrity(fpath, md5):\n",
      "File \u001b[0;32m/opt/homebrew/lib/python3.10/site-packages/torchvision/datasets/utils.py:144\u001b[0m, in \u001b[0;36mdownload_url\u001b[0;34m(url, root, filename, md5, max_redirect_hops)\u001b[0m\n\u001b[1;32m    142\u001b[0m \u001b[39mtry\u001b[39;00m:\n\u001b[1;32m    143\u001b[0m     \u001b[39mprint\u001b[39m(\u001b[39m\"\u001b[39m\u001b[39mDownloading \u001b[39m\u001b[39m\"\u001b[39m \u001b[39m+\u001b[39m url \u001b[39m+\u001b[39m \u001b[39m\"\u001b[39m\u001b[39m to \u001b[39m\u001b[39m\"\u001b[39m \u001b[39m+\u001b[39m fpath)\n\u001b[0;32m--> 144\u001b[0m     _urlretrieve(url, fpath)\n\u001b[1;32m    145\u001b[0m \u001b[39mexcept\u001b[39;00m (urllib\u001b[39m.\u001b[39merror\u001b[39m.\u001b[39mURLError, \u001b[39mOSError\u001b[39;00m) \u001b[39mas\u001b[39;00m e:  \u001b[39m# type: ignore[attr-defined]\u001b[39;00m\n\u001b[1;32m    146\u001b[0m     \u001b[39mif\u001b[39;00m url[:\u001b[39m5\u001b[39m] \u001b[39m==\u001b[39m \u001b[39m\"\u001b[39m\u001b[39mhttps\u001b[39m\u001b[39m\"\u001b[39m:\n",
      "File \u001b[0;32m/opt/homebrew/lib/python3.10/site-packages/torchvision/datasets/utils.py:48\u001b[0m, in \u001b[0;36m_urlretrieve\u001b[0;34m(url, filename, chunk_size)\u001b[0m\n\u001b[1;32m     46\u001b[0m \u001b[39mdef\u001b[39;00m \u001b[39m_urlretrieve\u001b[39m(url: \u001b[39mstr\u001b[39m, filename: \u001b[39mstr\u001b[39m, chunk_size: \u001b[39mint\u001b[39m \u001b[39m=\u001b[39m \u001b[39m1024\u001b[39m \u001b[39m*\u001b[39m \u001b[39m32\u001b[39m) \u001b[39m-\u001b[39m\u001b[39m>\u001b[39m \u001b[39mNone\u001b[39;00m:\n\u001b[1;32m     47\u001b[0m     \u001b[39mwith\u001b[39;00m urllib\u001b[39m.\u001b[39mrequest\u001b[39m.\u001b[39murlopen(urllib\u001b[39m.\u001b[39mrequest\u001b[39m.\u001b[39mRequest(url, headers\u001b[39m=\u001b[39m{\u001b[39m\"\u001b[39m\u001b[39mUser-Agent\u001b[39m\u001b[39m\"\u001b[39m: USER_AGENT})) \u001b[39mas\u001b[39;00m response:\n\u001b[0;32m---> 48\u001b[0m         _save_response_content(\u001b[39miter\u001b[39;49m(\u001b[39mlambda\u001b[39;49;00m: response\u001b[39m.\u001b[39;49mread(chunk_size), \u001b[39mb\u001b[39;49m\u001b[39m\"\u001b[39;49m\u001b[39m\"\u001b[39;49m), filename, length\u001b[39m=\u001b[39;49mresponse\u001b[39m.\u001b[39;49mlength)\n",
      "File \u001b[0;32m/opt/homebrew/lib/python3.10/site-packages/torchvision/datasets/utils.py:37\u001b[0m, in \u001b[0;36m_save_response_content\u001b[0;34m(content, destination, length)\u001b[0m\n\u001b[1;32m     31\u001b[0m \u001b[39mdef\u001b[39;00m \u001b[39m_save_response_content\u001b[39m(\n\u001b[1;32m     32\u001b[0m     content: Iterator[\u001b[39mbytes\u001b[39m],\n\u001b[1;32m     33\u001b[0m     destination: \u001b[39mstr\u001b[39m,\n\u001b[1;32m     34\u001b[0m     length: Optional[\u001b[39mint\u001b[39m] \u001b[39m=\u001b[39m \u001b[39mNone\u001b[39;00m,\n\u001b[1;32m     35\u001b[0m ) \u001b[39m-\u001b[39m\u001b[39m>\u001b[39m \u001b[39mNone\u001b[39;00m:\n\u001b[1;32m     36\u001b[0m     \u001b[39mwith\u001b[39;00m \u001b[39mopen\u001b[39m(destination, \u001b[39m\"\u001b[39m\u001b[39mwb\u001b[39m\u001b[39m\"\u001b[39m) \u001b[39mas\u001b[39;00m fh, tqdm(total\u001b[39m=\u001b[39mlength) \u001b[39mas\u001b[39;00m pbar:\n\u001b[0;32m---> 37\u001b[0m         \u001b[39mfor\u001b[39;00m chunk \u001b[39min\u001b[39;00m content:\n\u001b[1;32m     38\u001b[0m             \u001b[39m# filter out keep-alive new chunks\u001b[39;00m\n\u001b[1;32m     39\u001b[0m             \u001b[39mif\u001b[39;00m \u001b[39mnot\u001b[39;00m chunk:\n\u001b[1;32m     40\u001b[0m                 \u001b[39mcontinue\u001b[39;00m\n",
      "File \u001b[0;32m/opt/homebrew/lib/python3.10/site-packages/torchvision/datasets/utils.py:48\u001b[0m, in \u001b[0;36m_urlretrieve.<locals>.<lambda>\u001b[0;34m()\u001b[0m\n\u001b[1;32m     46\u001b[0m \u001b[39mdef\u001b[39;00m \u001b[39m_urlretrieve\u001b[39m(url: \u001b[39mstr\u001b[39m, filename: \u001b[39mstr\u001b[39m, chunk_size: \u001b[39mint\u001b[39m \u001b[39m=\u001b[39m \u001b[39m1024\u001b[39m \u001b[39m*\u001b[39m \u001b[39m32\u001b[39m) \u001b[39m-\u001b[39m\u001b[39m>\u001b[39m \u001b[39mNone\u001b[39;00m:\n\u001b[1;32m     47\u001b[0m     \u001b[39mwith\u001b[39;00m urllib\u001b[39m.\u001b[39mrequest\u001b[39m.\u001b[39murlopen(urllib\u001b[39m.\u001b[39mrequest\u001b[39m.\u001b[39mRequest(url, headers\u001b[39m=\u001b[39m{\u001b[39m\"\u001b[39m\u001b[39mUser-Agent\u001b[39m\u001b[39m\"\u001b[39m: USER_AGENT})) \u001b[39mas\u001b[39;00m response:\n\u001b[0;32m---> 48\u001b[0m         _save_response_content(\u001b[39miter\u001b[39m(\u001b[39mlambda\u001b[39;00m: response\u001b[39m.\u001b[39;49mread(chunk_size), \u001b[39mb\u001b[39m\u001b[39m\"\u001b[39m\u001b[39m\"\u001b[39m), filename, length\u001b[39m=\u001b[39mresponse\u001b[39m.\u001b[39mlength)\n",
      "File \u001b[0;32m/opt/homebrew/Cellar/python@3.10/3.10.9/Frameworks/Python.framework/Versions/3.10/lib/python3.10/http/client.py:465\u001b[0m, in \u001b[0;36mHTTPResponse.read\u001b[0;34m(self, amt)\u001b[0m\n\u001b[1;32m    462\u001b[0m \u001b[39mif\u001b[39;00m \u001b[39mself\u001b[39m\u001b[39m.\u001b[39mlength \u001b[39mis\u001b[39;00m \u001b[39mnot\u001b[39;00m \u001b[39mNone\u001b[39;00m \u001b[39mand\u001b[39;00m amt \u001b[39m>\u001b[39m \u001b[39mself\u001b[39m\u001b[39m.\u001b[39mlength:\n\u001b[1;32m    463\u001b[0m     \u001b[39m# clip the read to the \"end of response\"\u001b[39;00m\n\u001b[1;32m    464\u001b[0m     amt \u001b[39m=\u001b[39m \u001b[39mself\u001b[39m\u001b[39m.\u001b[39mlength\n\u001b[0;32m--> 465\u001b[0m s \u001b[39m=\u001b[39m \u001b[39mself\u001b[39;49m\u001b[39m.\u001b[39;49mfp\u001b[39m.\u001b[39;49mread(amt)\n\u001b[1;32m    466\u001b[0m \u001b[39mif\u001b[39;00m \u001b[39mnot\u001b[39;00m s \u001b[39mand\u001b[39;00m amt:\n\u001b[1;32m    467\u001b[0m     \u001b[39m# Ideally, we would raise IncompleteRead if the content-length\u001b[39;00m\n\u001b[1;32m    468\u001b[0m     \u001b[39m# wasn't satisfied, but it might break compatibility.\u001b[39;00m\n\u001b[1;32m    469\u001b[0m     \u001b[39mself\u001b[39m\u001b[39m.\u001b[39m_close_conn()\n",
      "File \u001b[0;32m/opt/homebrew/Cellar/python@3.10/3.10.9/Frameworks/Python.framework/Versions/3.10/lib/python3.10/socket.py:705\u001b[0m, in \u001b[0;36mSocketIO.readinto\u001b[0;34m(self, b)\u001b[0m\n\u001b[1;32m    703\u001b[0m \u001b[39mwhile\u001b[39;00m \u001b[39mTrue\u001b[39;00m:\n\u001b[1;32m    704\u001b[0m     \u001b[39mtry\u001b[39;00m:\n\u001b[0;32m--> 705\u001b[0m         \u001b[39mreturn\u001b[39;00m \u001b[39mself\u001b[39;49m\u001b[39m.\u001b[39;49m_sock\u001b[39m.\u001b[39;49mrecv_into(b)\n\u001b[1;32m    706\u001b[0m     \u001b[39mexcept\u001b[39;00m timeout:\n\u001b[1;32m    707\u001b[0m         \u001b[39mself\u001b[39m\u001b[39m.\u001b[39m_timeout_occurred \u001b[39m=\u001b[39m \u001b[39mTrue\u001b[39;00m\n",
      "\u001b[0;31mOSError\u001b[0m: [Errno 50] Network is down"
     ]
    }
   ],
   "source": [
    "from torchvision import datasets\n",
    "import torch\n",
    "data_folder = './content/' # This can be any directory you want to download FMNIST to\n",
    "fmnist = datasets.FashionMNIST(data_folder, download=True, train=True)\n",
    "val_fmnist = datasets.FashionMNIST(data_folder, download=True, train=False)\n",
    "tr_images, tr_targets = fmnist.data, fmnist.targets\n",
    "val_images, val_targets = val_fmnist.data, val_fmnist.targets"
   ]
  },
  {
   "attachments": {},
   "cell_type": "markdown",
   "metadata": {},
   "source": [
    "# FMNISTDataset"
   ]
  },
  {
   "cell_type": "code",
   "execution_count": 3,
   "metadata": {},
   "outputs": [],
   "source": [
    "# get dataset\n",
    "class FMNISTDataset(Dataset):\n",
    "  def __init__(self, x, y):\n",
    "    x = x.float()/255\n",
    "    x = x.view(-1,1,28,28)\n",
    "    self.x, self.y = x, y \n",
    "  def __getitem__(self, ix):\n",
    "    x, y = self.x[ix], self.y[ix]        \n",
    "    return x.to(device), y.to(device)\n",
    "  def __len__(self): \n",
    "    return len(self.x)\n",
    "\n",
    "def train_batch(x, y, model, optimizer, loss_fn):\n",
    "  prediction = model(x)\n",
    "  batch_loss = loss_fn(prediction, y)\n",
    "  batch_loss.backward()\n",
    "  optimizer.step()\n",
    "  optimizer.zero_grad()\n",
    "  return batch_loss.item()\n",
    "\n",
    "def accuracy(x, y, model):\n",
    "  model.eval()\n",
    "  with torch.no_grad():\n",
    "    prediction = model(x)\n",
    "  max_values, argmaxes = prediction.max(-1)\n",
    "  is_correct = argmaxes == y\n",
    "  return is_correct.cpu().numpy().tolist()\n",
    "  \n",
    "@torch.no_grad()\n",
    "def val_loss(x, y, model, loss_fn):\n",
    "  model.eval()\n",
    "  prediction = model(x)\n",
    "  val_loss = loss_fn(prediction, y)\n",
    "  return val_loss.item()"
   ]
  },
  {
   "attachments": {},
   "cell_type": "markdown",
   "metadata": {},
   "source": [
    "# DataLoader"
   ]
  },
  {
   "cell_type": "code",
   "execution_count": null,
   "metadata": {},
   "outputs": [],
   "source": [
    "# get dataloader\n",
    "def get_data():     \n",
    "  train = FMNISTDataset(tr_images, tr_targets)     \n",
    "  trn_dl = DataLoader(train, batch_size=32, shuffle=True)\n",
    "  val = FMNISTDataset(val_images, val_targets)     \n",
    "  val_dl = DataLoader(val, batch_size=len(val_images), shuffle=False)\n",
    "  return trn_dl, val_dl"
   ]
  },
  {
   "cell_type": "code",
   "execution_count": 4,
   "metadata": {},
   "outputs": [],
   "source": [
    "# make train, valid loop as function\n",
    "\n",
    "def train(trn_dl, val_dl, model, loss_fn, optimizer, num_epochs=30):\n",
    "  train_losses, train_accuracies = [], []\n",
    "  val_losses, val_accuracies = [], []\n",
    "  for epoch in range(num_epochs):\n",
    "    model.train()\n",
    "    train_epoch_losses, train_epoch_accuracies = [], []\n",
    "    for ix, batch in enumerate(iter(trn_dl)):\n",
    "      x, y = batch\n",
    "      batch_loss = train_batch(x, y, model, optimizer, loss_fn)\n",
    "      train_epoch_losses.append(batch_loss)        \n",
    "    train_epoch_loss = np.array(train_epoch_losses).mean()\n",
    "\n",
    "    for ix, batch in enumerate(iter(trn_dl)):\n",
    "      x, y = batch\n",
    "      is_correct = accuracy(x, y, model)\n",
    "      train_epoch_accuracies.extend(is_correct)\n",
    "    train_epoch_accuracy = np.mean(train_epoch_accuracies)\n",
    "\n",
    "    # validation loss\n",
    "    model.eval()\n",
    "    val_epoch_losses, val_epoch_accuracies = [], []\n",
    "    for ix, batch in enumerate(iter(val_dl)):\n",
    "      x, y = batch\n",
    "      val_batch_loss = val_loss(x, y, model, loss_fn)\n",
    "      val_is_correct = accuracy(x, y, model)\n",
    "\n",
    "      val_epoch_losses.append(val_batch_loss)\n",
    "      val_epoch_accuracies.extend(val_is_correct)\n",
    "    val_epoch_loss = np.mean(val_epoch_losses)\n",
    "    val_epoch_accuracy = np.mean(val_epoch_accuracies)\n",
    "\n",
    "\n",
    "    # append to losses and accuracies\n",
    "    train_losses.append(train_epoch_loss)\n",
    "    train_accuracies.append(train_epoch_accuracy)\n",
    "    val_losses.append(val_epoch_loss)\n",
    "    val_accuracies.append(val_epoch_accuracy)\n",
    "\n",
    "    \n",
    "  return train_losses, train_accuracies, val_losses, val_accuracies"
   ]
  },
  {
   "attachments": {},
   "cell_type": "markdown",
   "metadata": {},
   "source": [
    "###  L2 Regularization, Dropout, Batch Normalization, all"
   ]
  },
  {
   "cell_type": "code",
   "execution_count": 5,
   "metadata": {},
   "outputs": [],
   "source": [
    "# L2 Regularization\n",
    "def train_l2(num_epochs=10):\n",
    "  trn_dl, val_dl = get_data()\n",
    "  model = nn.Sequential(\n",
    "    nn.Flatten(),\n",
    "    nn.Linear(28*28, 1000),\n",
    "    nn.ReLU(),\n",
    "    nn.Linear(1000, 1000),\n",
    "    nn.ReLU(),\n",
    "    nn.Linear(1000, 10),\n",
    "  ).to(device)\n",
    "  loss_fn = nn.CrossEntropyLoss()\n",
    "  optimizer = Adam(model.parameters(), lr=1e-3, weight_decay=1e-5)\n",
    "  return train(trn_dl, val_dl, model, loss_fn, optimizer, num_epochs)\n",
    "\n",
    "# dropout\n",
    "def train_dropout(num_epochs=10):\n",
    "  trn_dl, val_dl = get_data()\n",
    "  model = nn.Sequential(\n",
    "    nn.Flatten(),\n",
    "    nn.Linear(28*28, 1000),\n",
    "    nn.ReLU(),\n",
    "    nn.Dropout(0.2),\n",
    "    nn.Linear(1000, 1000),\n",
    "    nn.ReLU(),\n",
    "    nn.Dropout(0.2),\n",
    "    nn.Linear(1000, 10),\n",
    "  ).to(device)\n",
    "  loss_fn = nn.CrossEntropyLoss()\n",
    "  optimizer = Adam(model.parameters(), lr=1e-3)\n",
    "  return train(trn_dl, val_dl, model, loss_fn, optimizer, num_epochs)\n",
    "\n",
    "# batch normalization\n",
    "def train_batch_norm(num_epochs=10):\n",
    "  trn_dl, val_dl = get_data()\n",
    "  model = nn.Sequential(\n",
    "    nn.Flatten(),\n",
    "    nn.Linear(28*28, 1000),\n",
    "    nn.BatchNorm1d(1000),\n",
    "    nn.ReLU(),\n",
    "    nn.Linear(1000, 1000),\n",
    "    nn.BatchNorm1d(1000),\n",
    "    nn.ReLU(),\n",
    "    nn.Linear(1000, 10),\n",
    "  ).to(device)\n",
    "  loss_fn = nn.CrossEntropyLoss()\n",
    "  optimizer = Adam(model.parameters(), lr=1e-3)\n",
    "  return train(trn_dl, val_dl, model, loss_fn, optimizer, num_epochs)\n",
    "\n",
    "# all\n",
    "def train_all(num_epochs=10):\n",
    "  trn_dl, val_dl = get_data()\n",
    "  model = nn.Sequential(\n",
    "    nn.Flatten(),\n",
    "    nn.Linear(28*28, 1000),\n",
    "    nn.BatchNorm1d(1000),\n",
    "    nn.ReLU(),\n",
    "    nn.Dropout(0.2),\n",
    "    nn.Linear(1000, 1000),\n",
    "    nn.BatchNorm1d(1000),\n",
    "    nn.ReLU(),\n",
    "    nn.Dropout(0.2),\n",
    "    nn.Linear(1000, 10),\n",
    "  ).to(device)\n",
    "  loss_fn = nn.CrossEntropyLoss()\n",
    "  optimizer = Adam(model.parameters(), lr=1e-3, weight_decay=1e-5)\n",
    "  return train(trn_dl, val_dl, model, loss_fn, optimizer, num_epochs)\n"
   ]
  },
  {
   "cell_type": "code",
   "execution_count": null,
   "metadata": {},
   "outputs": [],
   "source": [
    "# trainer\n",
    "l2_losses, l2_accuracies, l2_val_losses, l2_val_accuracies = train_l2(30)\n",
    "dropout_losses, dropout_accuracies, dropout_val_losses, dropout_val_accuracies = train_dropout(30)\n",
    "batch_norm_losses, batch_norm_accuracies, batch_norm_val_losses, batch_norm_val_accuracies = train_batch_norm(30)\n",
    "all_losses, all_accuracies, all_val_losses, all_val_accuracies = train_all(30)"
   ]
  },
  {
   "attachments": {},
   "cell_type": "markdown",
   "metadata": {},
   "source": [
    "# Make Plot for loss and accuracy"
   ]
  },
  {
   "cell_type": "code",
   "execution_count": null,
   "metadata": {},
   "outputs": [],
   "source": [
    "# get plot for loss and accuracy value over increasing epochs\n",
    "plt.subplot(2, 1, 1)\n",
    "plt.plot(l2_losses, label='l2', color='blue')\n",
    "plt.plot(l2_val_losses, label='l2 val', color='blue', linestyle='--')\n",
    "plt.plot(dropout_losses, label='dropout', color='green')\n",
    "plt.plot(dropout_val_losses, label='dropout val', color='green', linestyle='--')\n",
    "plt.plot(batch_norm_losses, label='batch norm', color='red')\n",
    "plt.plot(batch_norm_val_losses, label='batch norm val', color='red', linestyle='--')\n",
    "plt.plot(all_losses, label='all', color='black')\n",
    "plt.plot(all_val_losses, label='all val', color='black', linestyle='--')\n",
    "plt.legend(bbox_to_anchor=(1.05, 1), loc='upper left', borderaxespad=0.)\n",
    "\n",
    "plt.xlabel('Epochs')\n",
    "plt.ylabel('Loss')\n",
    "plt.title('Loss value over increasing epochs')\n",
    "\n",
    "plt.subplot(2, 1, 2)\n",
    "plt.plot(l2_accuracies, label='l2', color='blue')\n",
    "plt.plot(l2_val_accuracies, label='l2 val', color='blue', linestyle='--')\n",
    "plt.plot(dropout_accuracies, label='dropout', color='green')\n",
    "plt.plot(dropout_val_accuracies, label='dropout val', color='green', linestyle='--')\n",
    "plt.plot(batch_norm_accuracies, label='batch norm', color='red')\n",
    "plt.plot(batch_norm_val_accuracies, label='batch norm val', color='red', linestyle='--')\n",
    "plt.plot(all_accuracies, label='all', color='black')\n",
    "plt.plot(all_val_accuracies, label='all val', color='black', linestyle='--')\n",
    "plt.xlabel('Epochs')\n",
    "plt.ylabel('Accuracy(%)')\n",
    "plt.title('Accuracy value over increasing epochs')\n",
    "\n",
    "plt.tight_layout()\n",
    "plt.show()"
   ]
  },
  {
   "attachments": {},
   "cell_type": "markdown",
   "metadata": {},
   "source": [
    "# Make Tables for L2, Dropout, Batchnorm, All"
   ]
  },
  {
   "cell_type": "code",
   "execution_count": null,
   "metadata": {},
   "outputs": [],
   "source": [
    "# get tables\n",
    "cases = ['L2', 'Dropout', 'BatchNorm', 'All']\n",
    "train_losses_mean = [np.mean(l2_losses[-5:]), np.mean(dropout_losses[-5:]), np.mean(batch_norm_losses[-5:]), np.mean(all_losses[-5:])]\n",
    "val_losses_mean = [np.mean(l2_val_losses[-5:]), np.mean(dropout_val_losses[-5:]), np.mean(batch_norm_val_losses[-5:]), np.mean(all_val_losses[-5:])]\n",
    "train_accuracies_mean = [np.mean(l2_accuracies[-5:]), np.mean(dropout_accuracies[-5:]), np.mean(batch_norm_accuracies[-5:]), np.mean(all_accuracies[-5:])]\n",
    "val_accuracies_mean = [np.mean(l2_val_accuracies[-5:]), np.mean(dropout_val_accuracies[-5:]), np.mean(batch_norm_val_accuracies[-5:]), np.mean(all_val_accuracies[-5:])]\n",
    "\n",
    "loss_gaps = [abs(train_losses_mean[i] - val_losses_mean[i]) for i in range(len(cases))]\n",
    "accuracy_gaps = [abs(train_accuracies_mean[i] - val_accuracies_mean[i]) for i in range(len(cases))]\n",
    "\n",
    "fig, ax = plt.subplots()\n",
    "\n",
    "row_labels = ['Train loss', 'Validation loss', 'Traning/Validation loss gap', 'Train accuracy (%)', 'Validation accuracy (%)', 'Traning/Validation accuracy gap (%)']\n",
    "col_labels = ['L2 regular', 'Dropout', 'Batch norm', 'All']\n",
    "\n",
    "table_data = []\n",
    "table_data.append([round(val, 4) for val in train_losses_mean])\n",
    "table_data.append([round(val, 4) for val in val_losses_mean])\n",
    "table_data.append([round(val, 4) for val in loss_gaps])\n",
    "table_data.append([round(val*100, 2) for val in train_accuracies_mean])\n",
    "table_data.append([round(val*100, 2) for val in val_accuracies_mean])\n",
    "table_data.append([round(val*100, 2) for val in accuracy_gaps])\n",
    "\n",
    "table = ax.table(cellText=table_data, rowLabels=row_labels, colLabels=col_labels, loc='center')\n",
    "table.auto_set_font_size(False)\n",
    "table.set_fontsize(14)\n",
    "table.scale(1, 2)\n",
    "ax.axis('off')\n",
    "\n",
    "plt.show()"
   ]
  }
 ],
 "metadata": {
  "kernelspec": {
   "display_name": "Python 3",
   "language": "python",
   "name": "python3"
  },
  "language_info": {
   "codemirror_mode": {
    "name": "ipython",
    "version": 3
   },
   "file_extension": ".py",
   "mimetype": "text/x-python",
   "name": "python",
   "nbconvert_exporter": "python",
   "pygments_lexer": "ipython3",
   "version": "3.10.9"
  },
  "orig_nbformat": 4
 },
 "nbformat": 4,
 "nbformat_minor": 2
}
