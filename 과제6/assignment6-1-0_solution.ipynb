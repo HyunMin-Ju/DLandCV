{
 "cells": [
  {
   "cell_type": "code",
   "execution_count": null,
   "metadata": {},
   "outputs": [],
   "source": [
    "import torch\n",
    "import torch.nn as nn\n",
    "device = \"cuda\" if torch.cuda.is_available() else \"cpu\"\n",
    "from torch.utils.data import Dataset, DataLoader \n",
    "from torchvision import datasets, transforms\n",
    "import matplotlib.pyplot as plt \n",
    "import numpy as np"
   ]
  },
  {
   "cell_type": "code",
   "execution_count": null,
   "metadata": {},
   "outputs": [],
   "source": [
    "transform = transforms.ToTensor()\n",
    "\n",
    "data_path = '../data_cifar/'\n",
    "cifar10_train = datasets.CIFAR10(data_path, train=True, download=True, transform=transform) \n",
    "cifar10_val = datasets.CIFAR10(data_path, train=False, download=True, transform=transform)\n",
    "print(\"Training: \", len(cifar10_train)) #Training: 50000 \n",
    "print(\"Validating: \", len(cifar10_val)) #Testing: 10000"
   ]
  },
  {
   "cell_type": "code",
   "execution_count": null,
   "metadata": {},
   "outputs": [],
   "source": [
    "class CIFAR10Dataset(Dataset):\n",
    "    def __init__(self, x, y):\n",
    "        x = torch.tensor(x, dtype=torch.float) / 255      # scalling\n",
    "        x = x.reshape(-1, 3, 32, 32)\n",
    "        y = torch.tensor(y)\n",
    "        self.x, self.y = x, y \n",
    "    def __getitem__(self, ix):\n",
    "        x, y = self.x[ix], self.y[ix]        \n",
    "        return x.to(device), y.to(device)\n",
    "    def __len__(self): \n",
    "        return len(self.x)"
   ]
  },
  {
   "cell_type": "code",
   "execution_count": null,
   "metadata": {},
   "outputs": [],
   "source": [
    "train_dataset = CIFAR10Dataset(cifar10_train.data, cifar10_train.targets)\n",
    "valid_dataset = CIFAR10Dataset(cifar10_val.data, cifar10_val.targets)"
   ]
  },
  {
   "cell_type": "code",
   "execution_count": null,
   "metadata": {},
   "outputs": [],
   "source": [
    "train_loader = DataLoader(train_dataset, batch_size=100, shuffle=True) \n",
    "val_loader = DataLoader(valid_dataset, batch_size=10000, shuffle=False)"
   ]
  },
  {
   "cell_type": "code",
   "execution_count": null,
   "metadata": {},
   "outputs": [],
   "source": [
    "from torch.optim import Adam\n",
    "\n",
    "def get_baseline_model():\n",
    "    model = nn.Sequential(\n",
    "        nn.Conv2d(3, 64, kernel_size=3),\n",
    "        nn.MaxPool2d(2),\n",
    "        nn.ReLU(),\n",
    "        nn.Conv2d(64, 128, kernel_size=3),\n",
    "        nn.MaxPool2d(2),\n",
    "        nn.ReLU(),\n",
    "        nn.Flatten(),\n",
    "        nn.Linear(4608, 256),\n",
    "        nn.ReLU(),\n",
    "        nn.Linear(256, 10)\n",
    "    ).to(device)\n",
    "\n",
    "    loss_fn = nn.CrossEntropyLoss()\n",
    "    optimizer = Adam(model.parameters(), lr=1e-3)\n",
    "    return model, loss_fn, optimizer"
   ]
  },
  {
   "cell_type": "code",
   "execution_count": null,
   "metadata": {},
   "outputs": [],
   "source": [
    "def train_batch(x, y, model, optimizer, loss_fn):\n",
    "    model.train()\n",
    "    prediction = model(x)\n",
    "    batch_loss = loss_fn(prediction, y)\n",
    "    batch_loss.backward()\n",
    "    optimizer.step()\n",
    "    optimizer.zero_grad()\n",
    "    return batch_loss.item()\n",
    "\n",
    "@torch.no_grad()\n",
    "def accuracy(x, y, model):\n",
    "    model.eval()\n",
    "    prediction = model(x)\n",
    "    max_values, argmaxes = prediction.max(-1)\n",
    "    is_correct = argmaxes == y\n",
    "    return is_correct.cpu().numpy().tolist()"
   ]
  },
  {
   "cell_type": "code",
   "execution_count": null,
   "metadata": {},
   "outputs": [],
   "source": [
    "@torch.no_grad()\n",
    "def val_loss(x, y, model, loss_fn):\n",
    "    model.eval()\n",
    "    prediction = model(x)\n",
    "    val_loss = loss_fn(prediction, y)\n",
    "    return val_loss.item()"
   ]
  },
  {
   "cell_type": "code",
   "execution_count": null,
   "metadata": {},
   "outputs": [],
   "source": [
    "from torchsummary import summary\n",
    "\n",
    "baseline_model, baseline_loss_fn, baseline_optimizer = get_baseline_model()\n",
    "summary(baseline_model, input_size=(3, 32, 32))\n",
    "# summary가 없는 사람은 감점"
   ]
  },
  {
   "cell_type": "code",
   "execution_count": null,
   "metadata": {},
   "outputs": [],
   "source": [
    "from tqdm.auto import tqdm\n",
    "epochs = 20\n",
    "\n",
    "def train(model, loss_fn, optimizer, epochs):\n",
    "    train_losses, train_accuracies = [], []\n",
    "    val_losses, val_accuracies = [], []\n",
    "\n",
    "    for epoch in tqdm(range(epochs)):\n",
    "        train_epoch_losses, train_epoch_accuracies = [], []\n",
    "        for ix, batch in enumerate(iter(train_loader)):\n",
    "            x, y = batch\n",
    "            batch_loss = train_batch(x, y, model, optimizer, loss_fn)\n",
    "            train_epoch_losses.append(batch_loss)        \n",
    "        train_epoch_loss = np.array(train_epoch_losses).mean()\n",
    "\n",
    "        for ix, batch in enumerate(iter(train_loader)):\n",
    "            x, y = batch\n",
    "            is_correct = accuracy(x, y, model)\n",
    "            train_epoch_accuracies.extend(is_correct)\n",
    "        train_epoch_accuracy = np.mean(train_epoch_accuracies)\n",
    "\n",
    "        for ix, batch in enumerate(iter(val_loader)):\n",
    "            x, y = batch\n",
    "            val_is_correct = accuracy(x, y, model)\n",
    "            validation_loss = val_loss(x, y, model, loss_fn)\n",
    "        val_epoch_accuracy = np.mean(val_is_correct)\n",
    "\n",
    "        train_losses.append(train_epoch_loss)\n",
    "        train_accuracies.append(train_epoch_accuracy)\n",
    "        val_losses.append(validation_loss)\n",
    "        val_accuracies.append(val_epoch_accuracy)\n",
    "        \n",
    "    return train_losses, train_accuracies, val_losses, val_accuracies\n",
    "\n",
    "baseline_train_losses, baseline_train_accuracies, baseline_val_losses, baseline_val_accuracies = train(baseline_model, baseline_loss_fn, baseline_optimizer, epochs)"
   ]
  },
  {
   "cell_type": "code",
   "execution_count": null,
   "metadata": {},
   "outputs": [],
   "source": [
    "def plot_images(train_loss, train_accuracy, val_loss, val_accuracy, epochs):\n",
    "  epochs = np.arange(epochs) + 1\n",
    "  plt.figure(figsize=(20, 5))\n",
    "  plt.subplot(121)\n",
    "  plt.title('Loss value over increasing epochs')\n",
    "  plt.plot(epochs, train_loss, label='Training Loss', color='blue', linestyle='--')\n",
    "  plt.plot(epochs, val_loss, label='Validation Loss', color='red')\n",
    "  plt.legend()\n",
    "  plt.xlabel('Epochs')\n",
    "  plt.ylabel('Loss')\n",
    "  plt.title('Loss value over increasing epochs')\n",
    "  \n",
    "  plt.subplot(122)\n",
    "  plt.title('Accuracy value over increasing epochs')\n",
    "  plt.plot(epochs, train_accuracy, label='Training Accuracy', color='blue', linestyle='--')\n",
    "  plt.plot(epochs, val_accuracy, label='Validation Accuracy', color='red')\n",
    "  plt.gca().set_yticklabels(['{:.0f}%'.format(x*100) for x in plt.gca().get_yticks()]) \n",
    "  plt.legend()\n",
    "  plt.xlabel('Epochs')\n",
    "  plt.ylabel('Accuracy(%)')\n",
    "  plt.title('Accuracy value over increasing epochs')\n",
    "\n",
    "  plt.tight_layout()\n",
    "  plt.show()"
   ]
  },
  {
   "cell_type": "code",
   "execution_count": null,
   "metadata": {},
   "outputs": [],
   "source": [
    "plot_images(baseline_train_losses, baseline_train_accuracies, baseline_val_losses, baseline_val_accuracies, epochs)"
   ]
  },
  {
   "attachments": {},
   "cell_type": "markdown",
   "metadata": {},
   "source": [
    "# 어떠한 조정/hyperparameter 등이 사용되었는지 명확히 기술\n",
    "- 기술이 없으면 감점"
   ]
  },
  {
   "cell_type": "code",
   "execution_count": null,
   "metadata": {},
   "outputs": [],
   "source": []
  }
 ],
 "metadata": {
  "language_info": {
   "name": "python"
  },
  "orig_nbformat": 4
 },
 "nbformat": 4,
 "nbformat_minor": 2
}
